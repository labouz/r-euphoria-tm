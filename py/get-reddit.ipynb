{
 "cells": [
  {
   "cell_type": "markdown",
   "metadata": {},
   "source": [
    "**Getting Reddit Metadata and Posts on Euphoria**\n",
    "07/19/2022"
   ]
  },
  {
   "cell_type": "code",
   "execution_count": 28,
   "metadata": {},
   "outputs": [],
   "source": [
    "# libraries\n",
    "import pandas as pd\n",
    "from praw import Reddit\n",
    "from praw.models import MoreComments\n",
    "from praw.models import Comment\n",
    "from praw.models import Submission\n"
   ]
  },
  {
   "cell_type": "code",
   "execution_count": 46,
   "metadata": {},
   "outputs": [],
   "source": [
    "# source api credentials from file\n",
    "file = 'api-creds.py'\n",
    "exec(open(file).read())"
   ]
  },
  {
   "cell_type": "markdown",
   "metadata": {},
   "source": [
    "**Metadata**"
   ]
  },
  {
   "cell_type": "code",
   "execution_count": null,
   "metadata": {},
   "outputs": [],
   "source": [
    "# pull metadata from euphoria subreddit - details about the subreddit\n"
   ]
  },
  {
   "cell_type": "markdown",
   "metadata": {},
   "source": [
    "Get posts headlines. Options: hot, new, top, or rising  \n",
    "\n",
    "- `score`: the number of votes\n",
    "- `created_etc`: date post of created\n",
    "- `upvote ratio`: ratio of post upvotes to commennts\n",
    "- `num_comments`: number of comments the post received"
   ]
  },
  {
   "cell_type": "code",
   "execution_count": 30,
   "metadata": {},
   "outputs": [],
   "source": [
    "# pull and store headline attributes from api\n",
    "def get_headlines(subreddit):\n",
    "    \"\"\"\n",
    "    Get headlines from a subreddit\n",
    "    \"\"\"\n",
    "    headlines = []\n",
    "    for submission in reddit.subreddit(subreddit).hot(limit = None):\n",
    "        headlines.append({'title': submission.title, 'selftext': submission.selftext, 'url': submission.url, 'id': submission.id, 'author': submission.author, 'score': submission.score, 'created_utc': submission.created_utc, 'upvote_ratio': submission.upvote_ratio, 'num_comments': submission.num_comments})\n",
    "    return headlines"
   ]
  },
  {
   "cell_type": "code",
   "execution_count": 37,
   "metadata": {},
   "outputs": [
    {
     "name": "stdout",
     "output_type": "stream",
     "text": [
      "630 headlines pulled\n"
     ]
    }
   ],
   "source": [
    "# store headlines in a dataframe\n",
    "df = pd.DataFrame(get_headlines('euphoria'))\n",
    "print(str(len(df)) + ' headlines pulled')"
   ]
  },
  {
   "cell_type": "code",
   "execution_count": 19,
   "metadata": {},
   "outputs": [],
   "source": [
    "# save to csv\n",
    "df.to_csv('../dat/headlines.csv')"
   ]
  },
  {
   "cell_type": "markdown",
   "metadata": {},
   "source": [
    "**Getting top posts**"
   ]
  },
  {
   "cell_type": "code",
   "execution_count": 33,
   "metadata": {},
   "outputs": [],
   "source": [
    "def get_top_headlines(subreddit):\n",
    "    \"\"\"\n",
    "    Get headlines from a subreddit\n",
    "    \"\"\"\n",
    "    headlines = []\n",
    "    for submission in reddit.subreddit(subreddit).top(limit = None):\n",
    "        headlines.append({'title': submission.title, 'selftext': submission.selftext, 'url': submission.url, 'id': submission.id, 'author': submission.author, 'score': submission.score, 'created_utc': submission.created_utc, 'upvote_ratio': submission.upvote_ratio, 'num_comments': submission.num_comments})\n",
    "    return headlines"
   ]
  },
  {
   "cell_type": "code",
   "execution_count": 34,
   "metadata": {},
   "outputs": [],
   "source": [
    "top = pd.DataFrame(get_top_headlines('euphoria'))\n",
    "print(str(len(top)) + ' headlines pulled')"
   ]
  },
  {
   "cell_type": "code",
   "execution_count": 35,
   "metadata": {},
   "outputs": [],
   "source": [
    "top.to_csv('../dat/top_headlines.csv')"
   ]
  },
  {
   "cell_type": "markdown",
   "metadata": {},
   "source": [
    "Filter posts for drug references:"
   ]
  },
  {
   "cell_type": "code",
   "execution_count": 40,
   "metadata": {},
   "outputs": [],
   "source": [
    "# search headline titles for a list of keywords and store in a dataframe\n",
    "def get_keyword_headlines(subreddit, keywords):\n",
    "    \"\"\"\n",
    "    Get headlines from a subreddit\n",
    "    \"\"\"\n",
    "    headlines = []\n",
    "    # for submission in reddit.subreddit(subreddit).hot(limit = None):\n",
    "    for submission in reddit.subreddit(subreddit).top(limit = None):\n",
    "        if any(keyword in submission.title for keyword in keywords):\n",
    "            headlines.append({'title': submission.title, 'selftext': submission.selftext, 'url': submission.url, 'id': submission.id, 'author': submission.author, 'score': submission.score, 'created_utc': submission.created_utc, 'upvote_ratio': submission.upvote_ratio, 'num_comments': submission.num_comments})\n",
    "    return headlines"
   ]
  },
  {
   "cell_type": "code",
   "execution_count": 39,
   "metadata": {},
   "outputs": [],
   "source": [
    "keywords = ['dope', 'drug', 'opioiate', 'weed', 'heroin', 'xanax', 'opioid']\n",
    "drug_post = pd.DataFrame(get_keyword_headlines('euphoria', keywords))"
   ]
  },
  {
   "cell_type": "code",
   "execution_count": 42,
   "metadata": {},
   "outputs": [
    {
     "name": "stdout",
     "output_type": "stream",
     "text": [
      "9 headlines pulled\n"
     ]
    }
   ],
   "source": [
    "print(str(len(drug_post)) + ' headlines pulled')\n",
    "drug_post.to_csv('../dat/hot_drug_headlines.csv')"
   ]
  },
  {
   "cell_type": "code",
   "execution_count": 41,
   "metadata": {},
   "outputs": [],
   "source": [
    "drug_post_top = pd.DataFrame(get_keyword_headlines('euphoria', keywords))"
   ]
  },
  {
   "cell_type": "code",
   "execution_count": 45,
   "metadata": {},
   "outputs": [
    {
     "name": "stdout",
     "output_type": "stream",
     "text": [
      "7 headlines pulled\n"
     ]
    }
   ],
   "source": [
    "print(str(len(drug_post_top)) + ' headlines pulled')\n",
    "drug_post_top.to_csv('../dat/top_drug_headlines.csv')"
   ]
  },
  {
   "cell_type": "markdown",
   "metadata": {},
   "source": [
    "Get comments from the selected headlines"
   ]
  },
  {
   "cell_type": "code",
   "execution_count": null,
   "metadata": {},
   "outputs": [],
   "source": []
  }
 ],
 "metadata": {
  "kernelspec": {
   "display_name": "Python 3.8.3 64-bit",
   "language": "python",
   "name": "python3"
  },
  "language_info": {
   "codemirror_mode": {
    "name": "ipython",
    "version": 3
   },
   "file_extension": ".py",
   "mimetype": "text/x-python",
   "name": "python",
   "nbconvert_exporter": "python",
   "pygments_lexer": "ipython3",
   "version": "3.8.3"
  },
  "orig_nbformat": 4,
  "vscode": {
   "interpreter": {
    "hash": "aee8b7b246df8f9039afb4144a1f6fd8d2ca17a180786b69acc140d282b71a49"
   }
  }
 },
 "nbformat": 4,
 "nbformat_minor": 2
}
