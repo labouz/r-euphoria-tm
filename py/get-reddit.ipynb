{
 "cells": [
  {
   "cell_type": "markdown",
   "metadata": {},
   "source": [
    "**Getting Reddit Metadata and Posts on Euphoria**\n",
    "07/19/2022"
   ]
  },
  {
   "cell_type": "code",
   "execution_count": 59,
   "metadata": {},
   "outputs": [],
   "source": [
    "# libraries\n",
    "import pandas as pd\n",
    "from praw import Reddit\n",
    "from praw.models import MoreComments\n",
    "from praw.models import Comment\n",
    "from praw.models import Submission\n"
   ]
  },
  {
   "cell_type": "code",
   "execution_count": 60,
   "metadata": {},
   "outputs": [],
   "source": [
    "# source api credentials from file\n",
    "file = 'api-creds.py'\n",
    "exec(open(file).read())"
   ]
  },
  {
   "cell_type": "markdown",
   "metadata": {},
   "source": [
    "**Metadata**"
   ]
  },
  {
   "cell_type": "code",
   "execution_count": null,
   "metadata": {},
   "outputs": [],
   "source": [
    "# pull metadata from euphoria subreddit - details about the subreddit\n"
   ]
  },
  {
   "cell_type": "markdown",
   "metadata": {},
   "source": [
    "Get posts headlines. Options: hot, new, top, or rising  \n",
    "\n",
    "- `score`: the number of votes\n",
    "- `created_etc`: date post of created\n",
    "- `upvote ratio`: ratio of post upvotes to commennts\n",
    "- `num_comments`: number of comments the post received"
   ]
  },
  {
   "cell_type": "code",
   "execution_count": 61,
   "metadata": {},
   "outputs": [],
   "source": [
    "# pull and store headline attributes from api\n",
    "def get_headlines(subreddit):\n",
    "    \"\"\"\n",
    "    Get headlines from a subreddit\n",
    "    \"\"\"\n",
    "    headlines = []\n",
    "    for submission in reddit.subreddit(subreddit).hot(limit = None):\n",
    "        headlines.append({'title': submission.title, 'selftext': submission.selftext, 'url': submission.url, 'id': submission.id, 'author': submission.author, 'score': submission.score, 'created_utc': submission.created_utc, 'upvote_ratio': submission.upvote_ratio, 'num_comments': submission.num_comments})\n",
    "    return headlines"
   ]
  },
  {
   "cell_type": "code",
   "execution_count": 62,
   "metadata": {},
   "outputs": [
    {
     "name": "stdout",
     "output_type": "stream",
     "text": [
      "629 headlines pulled\n"
     ]
    }
   ],
   "source": [
    "# store headlines in a dataframe\n",
    "df = pd.DataFrame(get_headlines('euphoria'))\n",
    "print(str(len(df)) + ' headlines pulled')"
   ]
  },
  {
   "cell_type": "code",
   "execution_count": 19,
   "metadata": {},
   "outputs": [],
   "source": [
    "# save to csv\n",
    "df.to_csv('../dat/headlines.csv')"
   ]
  },
  {
   "cell_type": "markdown",
   "metadata": {},
   "source": [
    "**Getting top posts**"
   ]
  },
  {
   "cell_type": "code",
   "execution_count": 63,
   "metadata": {},
   "outputs": [],
   "source": [
    "def get_top_headlines(subreddit):\n",
    "    \"\"\"\n",
    "    Get headlines from a subreddit\n",
    "    \"\"\"\n",
    "    headlines = []\n",
    "    for submission in reddit.subreddit(subreddit).top(limit = None):\n",
    "        headlines.append({'title': submission.title, 'selftext': submission.selftext, 'url': submission.url, 'id': submission.id, 'author': submission.author, 'score': submission.score, 'created_utc': submission.created_utc, 'upvote_ratio': submission.upvote_ratio, 'num_comments': submission.num_comments})\n",
    "    return headlines"
   ]
  },
  {
   "cell_type": "code",
   "execution_count": 64,
   "metadata": {},
   "outputs": [
    {
     "name": "stdout",
     "output_type": "stream",
     "text": [
      "994 headlines pulled\n"
     ]
    }
   ],
   "source": [
    "top = pd.DataFrame(get_top_headlines('euphoria'))\n",
    "print(str(len(top)) + ' headlines pulled')"
   ]
  },
  {
   "cell_type": "code",
   "execution_count": 35,
   "metadata": {},
   "outputs": [],
   "source": [
    "top.to_csv('../dat/top_headlines.csv')"
   ]
  },
  {
   "cell_type": "markdown",
   "metadata": {},
   "source": [
    "Filter posts for drug references:"
   ]
  },
  {
   "cell_type": "code",
   "execution_count": 68,
   "metadata": {},
   "outputs": [],
   "source": [
    "# search headline titles for a list of keywords and store in a dataframe\n",
    "def get_keyword_headlines(subreddit, keywords):\n",
    "    \"\"\"\n",
    "    Get headlines from a subreddit\n",
    "    \"\"\"\n",
    "    headlines = []\n",
    "    # for submission in reddit.subreddit(subreddit).hot(limit = None):\n",
    "    for submission in reddit.subreddit(subreddit).top(limit = None):\n",
    "        if any(keyword in submission.title for keyword in keywords):\n",
    "            headlines.append({'title': submission.title, 'selftext': submission.selftext, 'url': submission.url, 'id': submission.id, 'author': submission.author, 'score': submission.score, 'created_utc': submission.created_utc, 'upvote_ratio': submission.upvote_ratio, 'num_comments': submission.num_comments})\n",
    "    return headlines"
   ]
  },
  {
   "cell_type": "code",
   "execution_count": 67,
   "metadata": {},
   "outputs": [],
   "source": [
    "keywords = ['dope', 'drug', 'opioiate', 'weed', 'heroin', 'xanax', 'opioid']\n",
    "drug_post = pd.DataFrame(get_keyword_headlines('euphoria', keywords))"
   ]
  },
  {
   "cell_type": "code",
   "execution_count": 42,
   "metadata": {},
   "outputs": [
    {
     "name": "stdout",
     "output_type": "stream",
     "text": [
      "9 headlines pulled\n"
     ]
    }
   ],
   "source": [
    "print(str(len(drug_post)) + ' headlines pulled')\n",
    "drug_post.to_csv('../dat/hot_drug_headlines.csv')"
   ]
  },
  {
   "cell_type": "code",
   "execution_count": 69,
   "metadata": {},
   "outputs": [],
   "source": [
    "drug_post_top = pd.DataFrame(get_keyword_headlines('euphoria', keywords))"
   ]
  },
  {
   "cell_type": "code",
   "execution_count": 45,
   "metadata": {},
   "outputs": [
    {
     "name": "stdout",
     "output_type": "stream",
     "text": [
      "7 headlines pulled\n"
     ]
    }
   ],
   "source": [
    "print(str(len(drug_post_top)) + ' headlines pulled')\n",
    "drug_post_top.to_csv('../dat/top_drug_headlines.csv')"
   ]
  },
  {
   "cell_type": "markdown",
   "metadata": {},
   "source": [
    "Get comments from the selected headlines  \n",
    "headlines were selected based on relevace of post and number of comments\n"
   ]
  },
  {
   "cell_type": "code",
   "execution_count": 70,
   "metadata": {},
   "outputs": [],
   "source": [
    "# using the id of a post, get the comments and store in a dataframe\n",
    "\n",
    "def get_comments(submission_id):\n",
    "    \"\"\"\n",
    "    Get comments from a submission\n",
    "    \"\"\"\n",
    "    comments = []\n",
    "    submission = reddit.submission(id = submission_id)\n",
    "    submission.comments.replace_more(limit = None)\n",
    "    for comment in submission.comments.list():\n",
    "        comments.append({'body': comment.body, 'author': comment.author, 'score': comment.score, 'created_utc': comment.created_utc, 'id': comment.id})\n",
    "    return comments"
   ]
  },
  {
   "cell_type": "markdown",
   "metadata": {},
   "source": [
    "**Pulling comments on post: sqhl33**  \n",
    "Content: *Question: Does euphoria make you less likely to try drugs? Or are you more curious than you were before?*"
   ]
  },
  {
   "cell_type": "code",
   "execution_count": 71,
   "metadata": {},
   "outputs": [],
   "source": [
    "comments_post1 = pd.DataFrame(get_comments('sqhl33'))\n",
    "comments_post1['post'] = 'sqhl33'"
   ]
  },
  {
   "cell_type": "code",
   "execution_count": 50,
   "metadata": {},
   "outputs": [
    {
     "name": "stdout",
     "output_type": "stream",
     "text": [
      "971 comments pulled\n"
     ]
    }
   ],
   "source": [
    "print(str(len(comments_post1)) + ' comments pulled')\n",
    "comments_post1.to_csv('../dat/comments_post1.csv')"
   ]
  },
  {
   "cell_type": "markdown",
   "metadata": {},
   "source": [
    "**Pulling comments on post: sn2vpk**  \n",
    "Content: *Not enough people are talking about Elliot's response to Rue telling him about her plan to get \"free\" drugs from Laurie*"
   ]
  },
  {
   "cell_type": "code",
   "execution_count": 73,
   "metadata": {},
   "outputs": [],
   "source": [
    "comments_post2 = pd.DataFrame(get_comments('sn2vpk'))\n",
    "comments_post2['post'] = 'sn2vpk'"
   ]
  },
  {
   "cell_type": "code",
   "execution_count": 52,
   "metadata": {},
   "outputs": [
    {
     "name": "stdout",
     "output_type": "stream",
     "text": [
      "523 comments pulled\n"
     ]
    }
   ],
   "source": [
    "print(str(len(comments_post2)) + ' comments pulled')\n",
    "comments_post1.to_csv('../dat/comments_post2.csv')"
   ]
  },
  {
   "cell_type": "markdown",
   "metadata": {},
   "source": [
    "**Pulling comments on post: smur2x**  \n",
    "Content: *As an ex-opioid addict, Zendaya's withdrawal scenes are the most realistic portrayal I've ever seen before. her acting is phenomenal.*"
   ]
  },
  {
   "cell_type": "code",
   "execution_count": 74,
   "metadata": {},
   "outputs": [],
   "source": [
    "comments_post3 = pd.DataFrame(get_comments('smur2x'))\n",
    "comments_post3['post'] = 'smur2x'"
   ]
  },
  {
   "cell_type": "code",
   "execution_count": 55,
   "metadata": {},
   "outputs": [
    {
     "name": "stdout",
     "output_type": "stream",
     "text": [
      "215 comments pulled\n"
     ]
    }
   ],
   "source": [
    "print(str(len(comments_post3)) + ' comments pulled')\n",
    "comments_post1.to_csv('../dat/comments_post3.csv')"
   ]
  },
  {
   "cell_type": "code",
   "execution_count": 75,
   "metadata": {},
   "outputs": [],
   "source": [
    "# join dataframes to make analysis dataframe\n",
    "analysis_df = pd.concat([comments_post1, comments_post2, comments_post3])"
   ]
  },
  {
   "cell_type": "code",
   "execution_count": 76,
   "metadata": {},
   "outputs": [],
   "source": [
    "analysis_df.to_csv('../dat/all_comments.csv')"
   ]
  }
 ],
 "metadata": {
  "kernelspec": {
   "display_name": "Python 3.8.3 64-bit",
   "language": "python",
   "name": "python3"
  },
  "language_info": {
   "codemirror_mode": {
    "name": "ipython",
    "version": 3
   },
   "file_extension": ".py",
   "mimetype": "text/x-python",
   "name": "python",
   "nbconvert_exporter": "python",
   "pygments_lexer": "ipython3",
   "version": "3.8.3"
  },
  "orig_nbformat": 4,
  "vscode": {
   "interpreter": {
    "hash": "aee8b7b246df8f9039afb4144a1f6fd8d2ca17a180786b69acc140d282b71a49"
   }
  }
 },
 "nbformat": 4,
 "nbformat_minor": 2
}
