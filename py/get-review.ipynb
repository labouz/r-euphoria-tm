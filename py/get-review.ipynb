{
 "cells": [
  {
   "cell_type": "markdown",
   "metadata": {},
   "source": [
    "## retrieving reviews from imdb\n",
    "### for the 62 films tagged 'Drug Addiction' from media hound \n",
    "### source [imdb-api.com](https://imdb-api.com/api#Reviews-header)"
   ]
  },
  {
   "cell_type": "code",
   "execution_count": 1,
   "metadata": {},
   "outputs": [],
   "source": [
    "import pandas as pd"
   ]
  },
  {
   "cell_type": "code",
   "execution_count": null,
   "metadata": {},
   "outputs": [],
   "source": [
    "# script to run api\n",
    "\n",
    "import http.client\n",
    "\n",
    "conn = http.client.HTTPSConnection(\"imdb-api.com\")\n",
    "\n",
    "headers = { 'user-agent': \"vscode-restclient\" }\n",
    "\n",
    "# conn.request(\"GET\", \"/en/API/Reviews/k_xe8bq7lx/tt1375666\", headers=headers)\n",
    "\n",
    "# res = conn.getresponse()\n",
    "# data = res.read()\n",
    "\n",
    "# data.decode(\"utf-8\")"
   ]
  },
  {
   "cell_type": "code",
   "execution_count": null,
   "metadata": {},
   "outputs": [],
   "source": [
    "import json\n",
    "data2 = json.loads(data)"
   ]
  },
  {
   "cell_type": "code",
   "execution_count": 4,
   "metadata": {},
   "outputs": [
    {
     "data": {
      "text/plain": [
       "dict_keys(['imDbId', 'title', 'fullTitle', 'type', 'year', 'items', 'errorMessage'])"
      ]
     },
     "execution_count": 4,
     "metadata": {},
     "output_type": "execute_result"
    }
   ],
   "source": [
    "data2.keys()"
   ]
  },
  {
   "cell_type": "code",
   "execution_count": 10,
   "metadata": {},
   "outputs": [],
   "source": [
    "# subset items to only include date, rate, helpful, and content\n",
    "data_df = pd.DataFrame(data2['items'])  # subset items to only include date, rate, helpful, and content\n",
    "data_df = data_df[['date', 'rate', 'helpful', 'content']]"
   ]
  },
  {
   "cell_type": "code",
   "execution_count": 13,
   "metadata": {},
   "outputs": [],
   "source": [
    "# write function that takes imdb_id and returns dataframe of reviews\n",
    "review_dfs = []\n",
    "def get_review(imdbid):\n",
    "    # api call\n",
    "    endpoint = \"/en/API/Reviews/k_xe8bq7lx/\" + imdbid\n",
    "    conn.request(\"GET\", endpoint, headers=headers)\n",
    "    res = conn.getresponse()\n",
    "    data = res.read()\n",
    "    data.decode(\"utf-8\")\n",
    "    # write to dictionary\n",
    "    data_dict = json.loads(data)\n",
    "    \n",
    "    # name of dataframe is title\n",
    "    title = data_dict['title']\n",
    "    # subset items to only include date, rate, helpful, and content\n",
    "    data_df = pd.DataFrame(data_dict['items'])\n",
    "    data_df = data_df[['date', 'rate', 'helpful', 'content']]\n",
    "    # add title to dataframe\n",
    "    data_df['title'] = title\n",
    "    \n",
    "    review_dfs.append(data_df)"
   ]
  },
  {
   "cell_type": "code",
   "execution_count": 14,
   "metadata": {},
   "outputs": [],
   "source": [
    "# test function\n",
    "\n",
    "imdbid = \"tt1375666\"\n",
    "get_review(imdbid)"
   ]
  }
 ],
 "metadata": {
  "kernelspec": {
   "display_name": "Python 3.8.3 64-bit",
   "language": "python",
   "name": "python3"
  },
  "language_info": {
   "codemirror_mode": {
    "name": "ipython",
    "version": 3
   },
   "file_extension": ".py",
   "mimetype": "text/x-python",
   "name": "python",
   "nbconvert_exporter": "python",
   "pygments_lexer": "ipython3",
   "version": "3.8.3"
  },
  "orig_nbformat": 4,
  "vscode": {
   "interpreter": {
    "hash": "aee8b7b246df8f9039afb4144a1f6fd8d2ca17a180786b69acc140d282b71a49"
   }
  }
 },
 "nbformat": 4,
 "nbformat_minor": 2
}
