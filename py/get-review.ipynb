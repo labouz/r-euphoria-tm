{
 "cells": [
  {
   "cell_type": "markdown",
   "metadata": {},
   "source": [
    "## retrieving reviews from imdb\n",
    "### for the 8 films that have been decided through a thorough selection process\n",
    "### source [imdb-api.com](https://imdb-api.com/api#Reviews-header)  \n",
    "\n",
    "Films:\n",
    "* dramatisized films: scarface(1983), trainspotting(1996), traffic(2000), wolf of wall street(2013)\n",
    "* humanizing films: drugstore cowboy (1986), flight(2012), ben is back(2018), beautiful boy(2018)"
   ]
  },
  {
   "cell_type": "code",
   "execution_count": 1,
   "metadata": {},
   "outputs": [],
   "source": [
    "import pandas as pd\n",
    "import http.client\n",
    "import json\n",
    "conn = http.client.HTTPSConnection(\"imdb-api.com\")\n",
    "headers = { 'user-agent': \"vscode-restclient\" }"
   ]
  },
  {
   "cell_type": "code",
   "execution_count": 2,
   "metadata": {},
   "outputs": [],
   "source": [
    "# data\n",
    "films = ['scarface', 'trainspotting', 'traffic', 'wolf of wall street', 'drugstore cowboy', 'flight', 'ben is back', 'beautiful boy']\n",
    "\n",
    "# because a few of the films are not in the DB, it's easier to manually add them\n",
    "# create a new dataframe with film titel and imdb\n",
    "film_df = pd.DataFrame(columns=['title', 'imdbid'], data = [['scarface', 'tt0086250'],\n",
    "                                                            ['trainspotting', 'tt0117951'],\n",
    "                                                            ['traffic', 'tt0181865'],\n",
    "                                                            ['the wolf of wall street', 'tt0993846'],\n",
    "                                                            ['drugstore cowboy', 'tt0097240'],\n",
    "                                                            ['flight', 'tt1907668'],\n",
    "                                                            ['ben is back', 'tt7545524'],\n",
    "                                                            ['beautiful boy','tt1226837']])\n"
   ]
  },
  {
   "cell_type": "code",
   "execution_count": 3,
   "metadata": {},
   "outputs": [],
   "source": [
    "# script to run api\n",
    "\n",
    "# conn.request(\"GET\", \"/en/API/Reviews/k_xe8bq7lx/tt1375666\", headers=headers)\n",
    "\n",
    "# res = conn.getresponse()\n",
    "# data = res.read()\n",
    "\n",
    "# data.decode(\"utf-8\")\n",
    "# data = json.loads(data)"
   ]
  },
  {
   "cell_type": "code",
   "execution_count": 4,
   "metadata": {},
   "outputs": [],
   "source": [
    "# import json\n",
    "# data2 = json.loads(data)\n",
    "# data2.keys()"
   ]
  },
  {
   "cell_type": "code",
   "execution_count": 5,
   "metadata": {},
   "outputs": [],
   "source": [
    "# subset items to only include date, rate, helpful, and content\n",
    "# data_df = pd.DataFrame(data2['items'])  # subset items to only include date, rate, helpful, and content\n",
    "# data_df = data_df[['date', 'rate', 'helpful', 'content']]"
   ]
  },
  {
   "cell_type": "code",
   "execution_count": 6,
   "metadata": {},
   "outputs": [],
   "source": [
    "# write function that takes imdb_id and returns dataframe of reviews\n",
    "import json\n",
    "review_dfs = []\n",
    "def get_review(imdbid):\n",
    "    # api call\n",
    "    endpoint = \"/en/API/Reviews/k_xe8bq7lx/\" + imdbid\n",
    "    conn.request(\"GET\", endpoint, headers=headers)\n",
    "    res = conn.getresponse()\n",
    "    data = res.read()\n",
    "    data.decode(\"utf-8\")\n",
    "    # write to dictionary\n",
    "    data_dict = json.loads(data)\n",
    "    \n",
    "    # name of dataframe is title\n",
    "    title = data_dict['title']\n",
    "    # subset items to only include date, rate, helpful, and content\n",
    "    data_df = pd.DataFrame(data_dict['items'])\n",
    "    data_df = data_df[['date', 'rate', 'helpful', 'content']]\n",
    "    # add title to dataframe\n",
    "    data_df['title'] = title\n",
    "    \n",
    "    review_dfs.append(data_df)"
   ]
  },
  {
   "cell_type": "code",
   "execution_count": 7,
   "metadata": {},
   "outputs": [],
   "source": [
    "# map function\n",
    "\n",
    "for id in film_df['imdbid']:\n",
    "    get_review(id)"
   ]
  },
  {
   "cell_type": "code",
   "execution_count": 10,
   "metadata": {},
   "outputs": [],
   "source": [
    "# get the content of the all reviews\n",
    "\n",
    "review_df = pd.concat(review_dfs)\n",
    "# 25 rviews per film"
   ]
  }
 ],
 "metadata": {
  "kernelspec": {
   "display_name": "Python 3.8.3 64-bit",
   "language": "python",
   "name": "python3"
  },
  "language_info": {
   "codemirror_mode": {
    "name": "ipython",
    "version": 3
   },
   "file_extension": ".py",
   "mimetype": "text/x-python",
   "name": "python",
   "nbconvert_exporter": "python",
   "pygments_lexer": "ipython3",
   "version": "3.8.3"
  },
  "orig_nbformat": 4,
  "vscode": {
   "interpreter": {
    "hash": "aee8b7b246df8f9039afb4144a1f6fd8d2ca17a180786b69acc140d282b71a49"
   }
  }
 },
 "nbformat": 4,
 "nbformat_minor": 2
}
