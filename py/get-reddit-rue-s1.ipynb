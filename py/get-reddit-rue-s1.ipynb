{
 "cells": [
  {
   "cell_type": "markdown",
   "metadata": {},
   "source": [
    "**Getting Reddit Posts on Euphoria & Rue**\n",
    "08/08/2022\n",
    "\n",
    "*Season 1: June 16 - Aug 4, 2019*\n",
    "\n",
    "*reason*: replicate upitt qualitative paper - same sampling criteria - more recent season.  \n",
    "hope to have more relvant topics but similar topics they determined thematically  \n",
    "sampling criteria:  \n",
    "- overall r/television subr\n",
    "- time frame  \n",
    "- comments that mention 'rue' - as narrator and main character  \n",
    "\n",
    "*analysis*: \n",
    "- topic modeling season 1 v 2\n",
    "  - LDA\n",
    "    - so far: getting comments for three recent top posts - 4 topics with 100 passes, no clear topics\n",
    "    - hyperparameter tuning\n",
    "      - coherence score/perplexity ...meh\n",
    "  - transformer-based\n",
    "    - `BERTopic`\n",
    "      - embeddings: \n",
    "        - all-mpnet-base-v2\n",
    "        - all-distilroberta-v1\n",
    "        - all-MiniLM-L6-v2 - *default*\n",
    "- compute valence scores for each comment and group by topic\n",
    "  - read into mood shift of main character from season 1 to 2\n",
    "- compare S1 to S2"
   ]
  },
  {
   "cell_type": "code",
   "execution_count": null,
   "metadata": {},
   "outputs": [],
   "source": [
    "from psaw import PushshiftAPI\n",
    "import pandas as pd\n",
    "from datetime import datetime\n",
    "\n",
    "# inclusive, make this the first day to collect yyyy,m,d\n",
    "after = int(datetime(2022, 1, 9).timestamp()) -1\n",
    "\n",
    "# exclusive, make this the day after the last day to collect\n",
    "before = int(datetime(2022, 2, 8).timestamp())\n",
    "\n",
    "api=PushshiftAPI()\n",
    "\n",
    "# change to search_comments to collect comments instead of submissions\n",
    "subs = api.search_submissions(after=after, before=before, q=\"rue\", limit=None)\n",
    "\n",
    "# process however you want - this loads the posts into a dataframe\n",
    "df = pd.DataFrame([sub.d_ for sub in subs])"
   ]
  }
 ],
 "metadata": {
  "kernelspec": {
   "display_name": "Python 3.8.3 64-bit",
   "language": "python",
   "name": "python3"
  },
  "language_info": {
   "name": "python",
   "version": "3.8.3"
  },
  "orig_nbformat": 4,
  "vscode": {
   "interpreter": {
    "hash": "aee8b7b246df8f9039afb4144a1f6fd8d2ca17a180786b69acc140d282b71a49"
   }
  }
 },
 "nbformat": 4,
 "nbformat_minor": 2
}
