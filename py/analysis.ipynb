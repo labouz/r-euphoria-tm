{
 "cells": [
  {
   "cell_type": "markdown",
   "metadata": {},
   "source": [
    "### Impact Analysis of Series 'Euphoria'\n",
    "#### Analysis based on posts and comments on the `r/euphoria` subreddit"
   ]
  },
  {
   "cell_type": "markdown",
   "metadata": {},
   "source": [
    "Analysis plan:\n",
    "1. topic modeling based on comments of drug-related posts on r/euphoria\n",
    "2. network analysis between users of drug and euphoria communities\n",
    "3. aspect based sentiment analysis of euphoria drug-related comments\n",
    "4. topic modeling based on comments that refer to euphoria on r/opioids, r/cannabis, r/benzodiazepenes"
   ]
  },
  {
   "cell_type": "code",
   "execution_count": null,
   "metadata": {},
   "outputs": [],
   "source": [
    "# analysis plan:\n",
    "# 1. sentiment analysis of reviews for each film with VADER\n",
    "# 2. aspect analysis of reviews for each film\n",
    "# 3. sentiment analysis of reviews with dense embeddings - doc2vec\n",
    "# 4. emotion analysis with NRC"
   ]
  },
  {
   "cell_type": "code",
   "execution_count": null,
   "metadata": {},
   "outputs": [],
   "source": [
    "# lexical based sentiment analysis\n",
    "# AFINN and VADER\n",
    "import pandas as pd\n",
    "from afinn import Afinn\n",
    "from nltk.sentiment.vader import SentimentIntensityAnalyzer"
   ]
  }
 ],
 "metadata": {
  "kernelspec": {
   "display_name": "Python 3.8.3 64-bit",
   "language": "python",
   "name": "python3"
  },
  "language_info": {
   "name": "python",
   "version": "3.8.3"
  },
  "orig_nbformat": 4,
  "vscode": {
   "interpreter": {
    "hash": "aee8b7b246df8f9039afb4144a1f6fd8d2ca17a180786b69acc140d282b71a49"
   }
  }
 },
 "nbformat": 4,
 "nbformat_minor": 2
}
