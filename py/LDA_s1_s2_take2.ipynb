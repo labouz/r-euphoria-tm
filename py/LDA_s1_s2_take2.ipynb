{
 "cells": [
  {
   "cell_type": "code",
   "execution_count": 1,
   "metadata": {},
   "outputs": [],
   "source": [
    "# LDA modeling of the s1 and s2 data\n",
    "# from tutorial: https://towardsdatascience.com/evaluate-topic-model-in-python-latent-dirichlet-allocation-lda-7d57484bb5d0\n",
    "\n",
    "import pandas as pd\n",
    "import numpy as np\n",
    "import matplotlib.pyplot as plt\n",
    "import seaborn as sns\n"
   ]
  },
  {
   "cell_type": "code",
   "execution_count": 2,
   "metadata": {},
   "outputs": [],
   "source": [
    "# data\n",
    "s1_df = pd.read_pickle('../dat/corpus_s1.pkl')\n",
    "s2_df = pd.read_pickle('../dat/corpus.pkl')"
   ]
  },
  {
   "cell_type": "code",
   "execution_count": 3,
   "metadata": {},
   "outputs": [],
   "source": [
    "# gensim LDA\n",
    "from gensim import corpora, models\n",
    "from gensim.models import CoherenceModel"
   ]
  },
  {
   "cell_type": "code",
   "execution_count": 4,
   "metadata": {},
   "outputs": [],
   "source": [
    "# convert string to list of tokens\n",
    "s1_df['tokens'] = s1_df[0].apply(lambda x: x.split())\n",
    "s2_df['tokens'] = s2_df[0].apply(lambda x: x.split()) \n",
    "\n",
    "# remove stop words\n",
    "from nltk.corpus import stopwords\n",
    "stop_words = stopwords.words('english')\n",
    "stop_words.extend(['i', 'just','did', 'ab', 'amp', 'ml', 'xb','abc'])\n",
    "\n",
    "s1_df['tokens'] = s1_df['tokens'].apply(lambda x: [item for item in x if item not in stop_words])\n",
    "s2_df['tokens'] = s2_df['tokens'].apply(lambda x: [item for item in x if item not in stop_words])"
   ]
  },
  {
   "cell_type": "code",
   "execution_count": 5,
   "metadata": {},
   "outputs": [],
   "source": [
    "# create dictionary\n",
    "s1_dict = corpora.Dictionary(s1_df['tokens'])\n",
    "s2_dict = corpora.Dictionary(s2_df['tokens'])"
   ]
  },
  {
   "cell_type": "code",
   "execution_count": 6,
   "metadata": {},
   "outputs": [],
   "source": [
    "# create corpus\n",
    "texts_s1 = s1_df['tokens']\n",
    "texts_s2 = s2_df['tokens']"
   ]
  },
  {
   "cell_type": "code",
   "execution_count": 7,
   "metadata": {},
   "outputs": [],
   "source": [
    "# TDF\n",
    "s1_corpus = [s1_dict.doc2bow(text) for text in texts_s1]\n",
    "s2_corpus = [s2_dict.doc2bow(text) for text in texts_s2]"
   ]
  },
  {
   "cell_type": "code",
   "execution_count": 22,
   "metadata": {},
   "outputs": [],
   "source": [
    "# Base LDA model S1\n",
    "lda_s1 = models.LdaModel(s1_corpus, id2word=s1_dict, num_topics=10, random_state=2022, chunksize=500, passes=10, per_word_topics=True)"
   ]
  },
  {
   "cell_type": "code",
   "execution_count": 23,
   "metadata": {},
   "outputs": [
    {
     "name": "stdout",
     "output_type": "stream",
     "text": [
      "[(0,\n",
      "  '0.048*\"song\" + 0.027*\"thank\" + 0.021*\"I\" + 0.020*\"pay\" + 0.017*\"cute\" + '\n",
      "  '0.016*\"brother\" + 0.015*\"front\" + 0.014*\"woman\" + 0.012*\"gay\" + '\n",
      "  '0.011*\"send\"'),\n",
      " (1,\n",
      "  '0.117*\"I\" + 0.022*\"show\" + 0.020*\"like\" + 0.019*\"rue\" + 0.018*\"think\" + '\n",
      "  '0.015*\"see\" + 0.013*\"feel\" + 0.012*\"would\" + 0.011*\"character\" + '\n",
      "  '0.010*\"really\"'),\n",
      " (2,\n",
      "  '0.058*\"nate\" + 0.042*\"dad\" + 0.015*\"child\" + 0.014*\"tyler\" + 0.013*\"room\" + '\n",
      "  '0.013*\"video\" + 0.013*\"cal\" + 0.011*\"dick\" + 0.008*\"eat\" + 0.008*\"cp\"'),\n",
      " (3,\n",
      "  '0.022*\"I\" + 0.015*\"jule\" + 0.013*\"read\" + 0.012*\"post\" + 0.011*\"word\" + '\n",
      "  '0.010*\"uncomfortable\" + 0.010*\"stop\" + 0.010*\"people\" + 0.010*\"make\" + '\n",
      "  '0.009*\"someone\"'),\n",
      " (4,\n",
      "  '0.048*\"sex\" + 0.021*\"major\" + 0.021*\"cal\" + 0.020*\"half\" + 0.019*\"fezco\" + '\n",
      "  '0.017*\"maddy\" + 0.017*\"plan\" + 0.016*\"hell\" + 0.014*\"trans\" + '\n",
      "  '0.014*\"crazy\"'),\n",
      " (5,\n",
      "  '0.045*\"school\" + 0.042*\"year\" + 0.036*\"kid\" + 0.030*\"high\" + 0.015*\"script\" '\n",
      "  '+ 0.014*\"grade\" + 0.013*\"class\" + 0.013*\"junior\" + 0.011*\"teacher\" + '\n",
      "  '0.011*\"medication\"'),\n",
      " (6,\n",
      "  '0.062*\"drug\" + 0.059*\"fez\" + 0.024*\"take\" + 0.021*\"addict\" + 0.017*\"get\" + '\n",
      "  '0.016*\"parent\" + 0.016*\"ashtray\" + 0.015*\"dealer\" + 0.014*\"prescription\" + '\n",
      "  '0.014*\"mouse\"'),\n",
      " (7,\n",
      "  '0.041*\"narator\" + 0.031*\"bike\" + 0.024*\"unreliable\" + 0.018*\"actres\" + '\n",
      "  '0.017*\"apatow\" + 0.015*\"maude\" + 0.013*\"euphoric\" + 0.012*\"howard\" + '\n",
      "  '0.011*\"coke\" + 0.011*\"sydney\"'),\n",
      " (8,\n",
      "  '0.172*\"\"\" + 0.024*\"pilot\" + 0.021*\"say\" + 0.017*\"job\" + 0.016*\"rehab\" + '\n",
      "  '0.015*\"na\" + 0.014*\"short\" + 0.012*\"similar\" + 0.012*\"sometimes\" + '\n",
      "  '0.012*\"exactly\"'),\n",
      " (9,\n",
      "  '0.063*\"I\" + 0.061*\"rue\" + 0.043*\"jule\" + 0.023*\"think\" + 0.020*\"go\" + '\n",
      "  '0.018*\"nate\" + 0.017*\"like\" + 0.016*\"know\" + 0.014*\"lexi\" + '\n",
      "  '0.014*\"episode\"')]\n"
     ]
    }
   ],
   "source": [
    "from pprint import pprint\n",
    "pprint(lda_s1.print_topics())\n",
    "doc_lda1 = lda_s1[s1_corpus]"
   ]
  },
  {
   "cell_type": "code",
   "execution_count": 8,
   "metadata": {},
   "outputs": [],
   "source": [
    "# Base LDA model S1\n",
    "lda_s2 = models.LdaModel(s2_corpus, id2word=s2_dict, num_topics=10, random_state=2022, chunksize=500, passes=10, per_word_topics=True)"
   ]
  },
  {
   "cell_type": "code",
   "execution_count": 11,
   "metadata": {},
   "outputs": [
    {
     "name": "stdout",
     "output_type": "stream",
     "text": [
      "[(0,\n",
      "  '0.069*\"home\" + 0.044*\"thank\" + 0.035*\"curious\" + 0.026*\"spoiler\" + '\n",
      "  '0.025*\"hbo\" + 0.025*\"message\" + 0.024*\"flashback\" + 0.024*\"share\" + '\n",
      "  '0.020*\"discus\" + 0.020*\"positive\"'),\n",
      " (1,\n",
      "  '0.058*\"name\" + 0.053*\"ashtray\" + 0.050*\"set\" + 0.041*\"theory\" + '\n",
      "  '0.022*\"brother\" + 0.022*\"strong\" + 0.020*\"wear\" + 0.016*\"reveal\" + '\n",
      "  '0.016*\"unfortunately\" + 0.016*\"raid\"'),\n",
      " (2,\n",
      "  '0.028*\"old\" + 0.026*\"school\" + 0.025*\"year\" + 0.020*\"day\" + 0.015*\"high\" + '\n",
      "  '0.011*\"work\" + 0.010*\"month\" + 0.010*\"short\" + 0.009*\"vacination\" + '\n",
      "  '0.009*\"karen\"'),\n",
      " (3,\n",
      "  '0.062*\"nate\" + 0.060*\"\"\" + 0.032*\"cassie\" + 0.025*\"maddy\" + 0.015*\"lexi\" + '\n",
      "  '0.012*\"boy\" + 0.011*\"fez\" + 0.010*\"guy\" + 0.010*\"dad\" + 0.010*\"also\"'),\n",
      " (4,\n",
      "  '0.056*\"episode\" + 0.042*\"\\'\" + 0.031*\"please\" + 0.028*\"night\" + '\n",
      "  '0.028*\"tyler\" + 0.019*\"special\" + 0.016*\"week\" + 0.014*\"conversation\" + '\n",
      "  '0.013*\"post\" + 0.012*\"th\"'),\n",
      " (5,\n",
      "  '0.094*\"rue\" + 0.063*\"jule\" + 0.026*\"I\" + 0.016*\"like\" + 0.013*\"elliot\" + '\n",
      "  '0.012*\"relationship\" + 0.012*\"love\" + 0.011*\"get\" + 0.010*\"want\" + '\n",
      "  '0.010*\"think\"'),\n",
      " (6,\n",
      "  '0.077*\"die\" + 0.055*\"send\" + 0.051*\"mil\" + 0.045*\"prof\" + 0.029*\"baby\" + '\n",
      "  '0.027*\"dead\" + 0.025*\"heroin\" + 0.025*\"chinese\" + 0.024*\"overdose\" + '\n",
      "  '0.020*\"finale\"'),\n",
      " (7,\n",
      "  '0.050*\"rue\" + 0.038*\"fez\" + 0.034*\"go\" + 0.031*\"drug\" + 0.025*\"get\" + '\n",
      "  '0.017*\"take\" + 0.017*\"would\" + 0.015*\"fezco\" + 0.013*\"back\" + '\n",
      "  '0.012*\"house\"'),\n",
      " (8,\n",
      "  '0.060*\"plot\" + 0.059*\"gt\" + 0.057*\"storyline\" + 0.031*\"trip\" + '\n",
      "  '0.024*\"lesbian\" + 0.020*\"fulfil\" + 0.020*\"often\" + 0.019*\"voice\" + '\n",
      "  '0.017*\"lmao\" + 0.017*\"hot\"'),\n",
      " (9,\n",
      "  '0.136*\"I\" + 0.023*\"like\" + 0.020*\"see\" + 0.017*\"think\" + 0.015*\"season\" + '\n",
      "  '0.015*\"show\" + 0.014*\"know\" + 0.012*\"character\" + 0.012*\"go\" + '\n",
      "  '0.011*\"would\"')]\n"
     ]
    }
   ],
   "source": [
    "from pprint import pprint\n",
    "pprint(lda_s2.print_topics())\n",
    "doc_lda2 = lda_s2[s2_corpus]"
   ]
  },
  {
   "cell_type": "code",
   "execution_count": 26,
   "metadata": {},
   "outputs": [],
   "source": [
    "# coherence score S1\n",
    "from gensim.models.coherencemodel import CoherenceModel\n",
    "coherence_model_lda1 = CoherenceModel(model=lda_s1, texts=texts_s1, dictionary=s1_dict, coherence='c_v')\n",
    "coherence_lda1 = coherence_model_lda1.get_coherence()\n",
    "\n"
   ]
  },
  {
   "cell_type": "code",
   "execution_count": 27,
   "metadata": {},
   "outputs": [
    {
     "name": "stdout",
     "output_type": "stream",
     "text": [
      "\n",
      "Coherence Score:  0.44620794777936934\n"
     ]
    }
   ],
   "source": [
    "print('\\nCoherence Score: ', coherence_lda1)\n"
   ]
  },
  {
   "cell_type": "code",
   "execution_count": 12,
   "metadata": {},
   "outputs": [
    {
     "name": "stderr",
     "output_type": "stream",
     "text": [
      "Traceback (most recent call last):\n",
      "  File \"/Library/Frameworks/Python.framework/Versions/3.8/lib/python3.8/multiprocessing/queues.py\", line 245, in _feed\n",
      "    send_bytes(obj)\n",
      "  File \"/Library/Frameworks/Python.framework/Versions/3.8/lib/python3.8/multiprocessing/connection.py\", line 200, in send_bytes\n",
      "    self._send_bytes(m[offset:offset + size])\n",
      "  File \"/Library/Frameworks/Python.framework/Versions/3.8/lib/python3.8/multiprocessing/connection.py\", line 411, in _send_bytes\n",
      "    self._send(header + buf)\n",
      "  File \"/Library/Frameworks/Python.framework/Versions/3.8/lib/python3.8/multiprocessing/connection.py\", line 368, in _send\n",
      "    n = write(self._handle, buf)\n",
      "BrokenPipeError: [Errno 32] Broken pipe\n",
      "/Library/Frameworks/Python.framework/Versions/3.8/lib/python3.8/site-packages/gensim/topic_coherence/direct_confirmation_measure.py:204: RuntimeWarning: divide by zero encountered in double_scalars\n",
      "  m_lr_i = np.log(numerator / denominator)\n",
      "/Library/Frameworks/Python.framework/Versions/3.8/lib/python3.8/site-packages/gensim/topic_coherence/indirect_confirmation_measure.py:323: RuntimeWarning: invalid value encountered in double_scalars\n",
      "  return cv1.T.dot(cv2)[0, 0] / (_magnitude(cv1) * _magnitude(cv2))\n"
     ]
    },
    {
     "name": "stdout",
     "output_type": "stream",
     "text": [
      "\n",
      "Coherence Score:  nan\n"
     ]
    }
   ],
   "source": [
    "# coherence score S2\n",
    "# coherence_model_lda2 = CoherenceModel(model=lda_s2, texts=texts_s2, dictionary=s2_dict, coherence='c_v')\n",
    "# coherence_lda2 = coherence_model_lda2.get_coherence()\n",
    "\n",
    "# print('\\nCoherence Score: ', coherence_lda2)"
   ]
  },
  {
   "cell_type": "markdown",
   "metadata": {},
   "source": [
    "### Hypertuning LDA"
   ]
  },
  {
   "cell_type": "code",
   "execution_count": 13,
   "metadata": {},
   "outputs": [],
   "source": [
    "# hyperparameter tuning S1\n",
    "# grid search\n",
    "from gensim.models import CoherenceModel\n",
    "import numpy as np\n",
    "import tqdm"
   ]
  },
  {
   "cell_type": "code",
   "execution_count": 14,
   "metadata": {},
   "outputs": [],
   "source": [
    "# Grid Search\n",
    "grid = {}\n",
    "grid['Validation_Set'] = {}\n",
    "\n",
    "# Topics range\n",
    "min_topics = 2\n",
    "max_topics = 10\n",
    "step_size = 1\n",
    "topics_range = range(min_topics, max_topics, step_size)\n"
   ]
  },
  {
   "cell_type": "code",
   "execution_count": 15,
   "metadata": {},
   "outputs": [],
   "source": [
    "# Alpha parameter\n",
    "alpha = list(np.arange(0.01, 1, 0.3))\n",
    "alpha.append('symmetric')\n"
   ]
  },
  {
   "cell_type": "code",
   "execution_count": 16,
   "metadata": {},
   "outputs": [],
   "source": [
    "# Beta parameter\n",
    "beta = list(np.arange(0.01, 1, 0.3))\n",
    "beta.append('symmetric')\n"
   ]
  },
  {
   "cell_type": "code",
   "execution_count": 17,
   "metadata": {},
   "outputs": [],
   "source": [
    "# Validation sets\n",
    "num_of_docs = len(s1_corpus)\n",
    "corpus_sets = [# gensim.utils.ClippedCorpus(s1_corpus, int(num_of_docs*0.25)),\n",
    "                # gensim.utils.ClippedCorpus(s1_corpus, int(num_of_docs*0.5)),\n",
    "                # gensim.utils.ClippedCorpus(s1_corpus, int(num_of_docs*0.75)),\n",
    "                s1_corpus]\n",
    "\n",
    "corpus_title = ['100% Corpus']\n",
    "model_results = {'Validation_Set': [],\n",
    "                    'Topics': [],\n",
    "                    'Alpha': [],\n",
    "                    'Beta': [],\n",
    "                    'Coherence': []\n",
    "                     }\n",
    "                     "
   ]
  },
  {
   "cell_type": "code",
   "execution_count": 18,
   "metadata": {},
   "outputs": [
    {
     "name": "stderr",
     "output_type": "stream",
     "text": [
      " 37%|███▋      | 200/540 [42:12<1:11:45, 12.66s/it]\n"
     ]
    }
   ],
   "source": [
    "# Can take a long time to run\n",
    "if 1 == 1:\n",
    "    pbar = tqdm.tqdm(total=540)\n",
    "\n",
    "    # iterate through validation corpuses\n",
    "    for i in range(len(corpus_sets)):\n",
    "        # iterate through number of topics\n",
    "        for k in topics_range:\n",
    "            # iterate through alpha values\n",
    "            for a in alpha:\n",
    "                # iterare through beta values\n",
    "                for b in beta:\n",
    "                    # get the coherence score for the given parameters\n",
    "                    cv = CoherenceModel(model=models.LdaModel(corpus=corpus_sets[i], num_topics=k, id2word=s1_dict, alpha=a, eta=b), texts=texts_s1, dictionary=s1_dict, coherence='c_v').get_coherence()\n",
    "                    # Save the model results\n",
    "                    model_results['Validation_Set'].append(corpus_title[i])\n",
    "                    model_results['Topics'].append(k)\n",
    "                    model_results['Alpha'].append(a)\n",
    "                    model_results['Beta'].append(b)\n",
    "                    model_results['Coherence'].append(cv)\n",
    "\n",
    "                    pbar.update(1)\n",
    "\n",
    "    pd.DataFrame(model_results).to_csv('lda_tuning_results_s1.csv', index=False)\n",
    "    pbar.close()\n",
    "\n"
   ]
  },
  {
   "cell_type": "code",
   "execution_count": 22,
   "metadata": {},
   "outputs": [
    {
     "data": {
      "image/png": "[encoded data removed]",
      "text/plain": [
       "<Figure size 864x576 with 1 Axes>"
      ]
     },
     "metadata": {},
     "output_type": "display_data"
    }
   ],
   "source": [
    "# season 1 best model\n",
    "import matplotlib.pyplot as plt\n",
    "import seaborn as sns\n",
    "\n",
    "# plot coherence scores\n",
    "df = pd.read_csv('lda_tuning_results_s1.csv')\n",
    "df = df.sort_values(by=['Coherence'], ascending=False)\n",
    "df = df.reset_index(drop=True)\n",
    "df = df.head(10)\n",
    "sns.set(font_scale=1.5)\n",
    "sns.set_style(\"whitegrid\")\n",
    "plt.figure(figsize=(12, 8))\n",
    "ax = sns.scatterplot(x=\"Topics\", y=\"Coherence\", hue=\"Alpha\", size=\"Beta\", sizes=(100, 200), data=df)\n",
    "# fit a line\n",
    "sns.regplot(x=\"Topics\", y=\"Coherence\", data=df, scatter=False, color=\".1\")\n",
    "plt.title('Coherence Scores for LDA Model')\n",
    "plt.xlabel(\"Num Topics\")\n",
    "plt.ylabel(\"Coherence score\")\n",
    "plt.legend(title='Alpha and Beta', loc='upper left', labels=['0.01', '0.31', '0.61', '0.91', 'symmetric'])\n",
    "plt.show()\n",
    "# ax = sns.barplot(x=\"Coherence\", y=\"Topics\", data=df, palette=\"Blues_d\")\n",
    "\n"
   ]
  },
  {
   "cell_type": "code",
   "execution_count": 20,
   "metadata": {},
   "outputs": [],
   "source": [
    "# hyperparameter tuning S2\n",
    "# grid search\n",
    "\n",
    "# Grid Search\n",
    "grid = {}\n",
    "grid['Validation_Set'] = {}\n",
    "\n",
    "# Topics range\n",
    "min_topics = 2\n",
    "max_topics = 30\n",
    "\n",
    "step_size = 2\n",
    "topics_range = range(min_topics, max_topics, step_size)"
   ]
  },
  {
   "cell_type": "code",
   "execution_count": 23,
   "metadata": {},
   "outputs": [],
   "source": [
    "num_of_docs2 = len(s2_corpus)\n",
    "corpus_sets2 = [# gensim.utils.ClippedCorpus(s2_corpus, int(num_of_docs2*0.25)),\n",
    "                # gensim.utils.ClippedCorpus(s2_corpus, int(num_of_docs2*0.5)),\n",
    "                # gensim.utils.ClippedCorpus(s2_corpus, int(num_of_docs2*0.75)),\n",
    "                s2_corpus]\n",
    "                \n",
    "corpus_title2 = ['100% Corpus']\n",
    "model_results2 = {'Validation_Set': [],\n",
    "                    'Topics': [],\n",
    "                    'Alpha': [],\n",
    "                    'Beta': [],\n",
    "                    'Coherence': []\n",
    "                        }"
   ]
  },
  {
   "cell_type": "code",
   "execution_count": 24,
   "metadata": {},
   "outputs": [
    {
     "name": "stderr",
     "output_type": "stream",
     "text": [
      "  0%|          | 0/540 [00:00<?, ?it/s]Traceback (most recent call last):\n",
      "  File \"/Library/Frameworks/Python.framework/Versions/3.8/lib/python3.8/multiprocessing/queues.py\", line 245, in _feed\n",
      "    send_bytes(obj)\n",
      "  File \"/Library/Frameworks/Python.framework/Versions/3.8/lib/python3.8/multiprocessing/connection.py\", line 200, in send_bytes\n",
      "    self._send_bytes(m[offset:offset + size])\n",
      "  File \"/Library/Frameworks/Python.framework/Versions/3.8/lib/python3.8/multiprocessing/connection.py\", line 411, in _send_bytes\n",
      "    self._send(header + buf)\n",
      "  File \"/Library/Frameworks/Python.framework/Versions/3.8/lib/python3.8/multiprocessing/connection.py\", line 368, in _send\n",
      "    n = write(self._handle, buf)\n",
      "BrokenPipeError: [Errno 32] Broken pipe\n",
      "  0%|          | 1/540 [25:27:17<13720:06:33, 91637.09s/it]"
     ]
    }
   ],
   "source": [
    "# Can take a long time to run\n",
    "if 1 == 1: \n",
    "    pbar = tqdm.tqdm(total=540)\n",
    "\n",
    "    # iterate through validation corpuses\n",
    "    for i in range(len(corpus_sets2)):\n",
    "        # iterate through number of topics\n",
    "        for k in topics_range:\n",
    "            # iterate through alpha values\n",
    "            for a in alpha:\n",
    "                # iterare through beta values\n",
    "                for b in beta:\n",
    "                    # get the coherence score for the given parameters\n",
    "                    cv = CoherenceModel(model=models.LdaModel(corpus=corpus_sets2[i], num_topics=k, id2word=s2_dict, alpha=a, eta=b), texts=texts_s2, dictionary=s2_dict, coherence='c_v').get_coherence()\n",
    "                    # Save the model results\n",
    "                    model_results2['Validation_Set'].append(corpus_title2[i])\n",
    "                    model_results2['Topics'].append(k)\n",
    "                    model_results2['Alpha'].append(a)\n",
    "                    model_results2['Beta'].append(b)\n",
    "                    model_results2['Coherence'].append(cv)\n",
    "\n",
    "                    pbar.update(1)\n",
    "\n",
    "    pd.DataFrame(model_results2).to_csv('lda_tuning_results_s2.csv', index=False)\n",
    "    pbar.close()"
   ]
  }
 ],
 "metadata": {
  "kernelspec": {
   "display_name": "Python 3.8.3 64-bit",
   "language": "python",
   "name": "python3"
  },
  "language_info": {
   "codemirror_mode": {
    "name": "ipython",
    "version": 3
   },
   "file_extension": ".py",
   "mimetype": "text/x-python",
   "name": "python",
   "nbconvert_exporter": "python",
   "pygments_lexer": "ipython3",
   "version": "3.8.3"
  },
  "orig_nbformat": 4,
  "vscode": {
   "interpreter": {
    "hash": "aee8b7b246df8f9039afb4144a1f6fd8d2ca17a180786b69acc140d282b71a49"
   }
  }
 },
 "nbformat": 4,
 "nbformat_minor": 2
}
