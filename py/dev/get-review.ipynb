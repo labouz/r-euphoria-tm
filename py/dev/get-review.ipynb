{
 "cells": [
  {
   "cell_type": "markdown",
   "metadata": {},
   "source": [
    "## retrieving reviews from imdb\n",
    "### for the 8 films that have been decided through a thorough selection process\n",
    "### source [imdb-api.com](https://imdb-api.com/api#Reviews-header)  \n",
    "\n",
    "Films:\n",
    "* dramatisized films: scarface(1983), trainspotting(1996), traffic(2000), wolf of wall street(2013)\n",
    "* humanizing films: drugstore cowboy (1986), flight(2012), ben is back(2018), beautiful boy(2018)"
   ]
  },
  {
   "cell_type": "code",
   "execution_count": 1,
   "metadata": {},
   "outputs": [],
   "source": [
    "import pandas as pd\n",
    "import http.client\n",
    "import json\n",
    "conn = http.client.HTTPSConnection(\"imdb-api.com\")\n",
    "headers = { 'user-agent': \"vscode-restclient\" }"
   ]
  },
  {
   "cell_type": "code",
   "execution_count": 2,
   "metadata": {},
   "outputs": [],
   "source": [
    "# data\n",
    "films = ['scarface', 'trainspotting', 'traffic', 'wolf of wall street', 'drugstore cowboy', 'flight', 'ben is back', 'beautiful boy']\n",
    "\n",
    "# because a few of the films are not in the DB, it's easier to manually add them\n",
    "# create a new dataframe with film titel and imdb\n",
    "film_df = pd.DataFrame(columns=['title', 'imdbid'], data = [['scarface', 'tt0086250'],\n",
    "                                                            ['trainspotting', 'tt0117951'],\n",
    "                                                            ['traffic', 'tt0181865'],\n",
    "                                                            ['the wolf of wall street', 'tt0993846'],\n",
    "                                                            ['drugstore cowboy', 'tt0097240'],\n",
    "                                                            ['flight', 'tt1907668'],\n",
    "                                                            ['ben is back', 'tt7545524'],\n",
    "                                                            ['beautiful boy','tt1226837']])\n"
   ]
  },
  {
   "cell_type": "code",
   "execution_count": 3,
   "metadata": {},
   "outputs": [],
   "source": [
    "# script to run api\n",
    "\n",
    "# conn.request(\"GET\", \"/en/API/Reviews/k_xe8bq7lx/tt1375666\", headers=headers)\n",
    "\n",
    "# res = conn.getresponse()\n",
    "# data = res.read()\n",
    "\n",
    "# data.decode(\"utf-8\")\n",
    "# data = json.loads(data)"
   ]
  },
  {
   "cell_type": "code",
   "execution_count": 4,
   "metadata": {},
   "outputs": [],
   "source": [
    "# import json\n",
    "# data2 = json.loads(data)\n",
    "# data2.keys()"
   ]
  },
  {
   "cell_type": "code",
   "execution_count": 5,
   "metadata": {},
   "outputs": [],
   "source": [
    "# subset items to only include date, rate, helpful, and content\n",
    "# data_df = pd.DataFrame(data2['items'])  # subset items to only include date, rate, helpful, and content\n",
    "# data_df = data_df[['date', 'rate', 'helpful', 'content']]"
   ]
  },
  {
   "cell_type": "code",
   "execution_count": 3,
   "metadata": {},
   "outputs": [],
   "source": [
    "# write function that takes imdb_id and returns dataframe of reviews\n",
    "import json\n",
    "review_dfs = []\n",
    "def get_review(imdbid):\n",
    "    # api call\n",
    "    endpoint = \"/en/API/Reviews/k_xe8bq7lx/\" + imdbid\n",
    "    conn.request(\"GET\", endpoint, headers=headers)\n",
    "    res = conn.getresponse()\n",
    "    data = res.read()\n",
    "    data.decode(\"utf-8\")\n",
    "    # write to dictionary\n",
    "    data_dict = json.loads(data)\n",
    "    \n",
    "    # name of dataframe is title\n",
    "    title = data_dict['title']\n",
    "    # subset items to only include date, rate, helpful, and content\n",
    "    data_df = pd.DataFrame(data_dict['items'])\n",
    "    data_df = data_df[['date', 'rate', 'helpful', 'content']]\n",
    "    # add title to dataframe\n",
    "    data_df['title'] = title\n",
    "    \n",
    "    review_dfs.append(data_df)"
   ]
  },
  {
   "cell_type": "code",
   "execution_count": 4,
   "metadata": {},
   "outputs": [],
   "source": [
    "# map function\n",
    "\n",
    "for id in film_df['imdbid']:\n",
    "    get_review(id)"
   ]
  },
  {
   "cell_type": "code",
   "execution_count": 5,
   "metadata": {},
   "outputs": [],
   "source": [
    "# get the content of the all reviews\n",
    "\n",
    "review_df = pd.concat(review_dfs)\n",
    "# 25 rviews per film"
   ]
  },
  {
   "cell_type": "code",
   "execution_count": 25,
   "metadata": {},
   "outputs": [
    {
     "data": {
      "text/plain": [
       "'\"Scarface\" has a major cult following even now, 22 years after its release.It has also been widely criticized as being very tacky, unrefined, over-the-top and all bloated up! These are people who compare Scarface to The Godfather movies. It is true that on the technical front, (cinematography, screenplay, direction, etc.) Scarface is way behind \\'The Godfather\\'.But it is also true, that what Scarface has and some other gangster movies lack, is the rawness, the sheer crude approach of the gangsters. The Latino gangsters in this movie look much more menacing and real than any of the polished Italian or Irish gangsters from other gangster classics like \\'The Godfather\\' or \\'Goodfellas\\'. This is one of the major winning points of Scarface and I strongly believe that this fact has been written off as \"tackiness\" by most critics! I have seen the original 1932 Scarface, and I must say that both these movies are way too different from each other and should be seen as two different movies instead of praising the original over the \"remake\"! Al Pacino has been criticized to be over-the-top and loud in this movie. But how about considering that that is precisely the way the film-makers wanted Tony Montana\\'s character to be! He is this angry young man who takes hasty decisions and throws fits of tantrum every other minute! He is not the calm Michael Corleone here. He is Tony Montana, a very tacky, uneducated individual who doesn\\'t really think much and gets angry all the time!There is definitely a very 80s feel to this movie. The soundtrack is all 80s! I love some of the songs, including \\'Gina and Elvira\\'s theme\\', \\'Push it to the limit\\' and the title track instrumental.There are some memorable and beautifully shot sequences, including the famous chainsaw scene, the Rebenga hit, the first meeting with Sosa and Tony\\'s visit to his mother\\'s.About the performances: Al Pacino is brilliant as the angry Cuban refugee. He has reportedly mentioned that he enjoyed playing Tony Montana the most in his entire career. And it really does seem like he has enjoyed himself thoroughly in all his scenes! One wonders what \"Scarface\" would be like without Pacino. I just couldn\\'t imagine anyone else portraying Tony Montana and in all probabilities, the film wouldn\\'t be as effective without him!Steven Bauer shines as Tony\\'s friend Manny.Robert Loggia is wonderful as Tony\\'s boss, Lopez. So is F. Murray Abraham (as Omar) in a small role.Then there is some eye-candy in the form of Elvira played by Michelle Pfeiffer. She looks beautiful and is adequate in her role.The director does go a bit overboard during a particular part in the climax. Without revealing anything, I would only say that that was the only little part that suffers due to improper handling.\"Scarface\" is definitely one of the most entertaining and one of the best gangster movies to ever come out. Enjoy it for what it is: a raw portrayal of the Drug Lords and their gangland!'"
      ]
     },
     "execution_count": 25,
     "metadata": {},
     "output_type": "execute_result"
    }
   ],
   "source": [
    "# get the first review of scarface\n",
    "review_df.loc[review_df['title'] == 'Scarface'].iloc[0]['content']"
   ]
  }
 ],
 "metadata": {
  "kernelspec": {
   "display_name": "Python 3.8.3 64-bit",
   "language": "python",
   "name": "python3"
  },
  "language_info": {
   "codemirror_mode": {
    "name": "ipython",
    "version": 3
   },
   "file_extension": ".py",
   "mimetype": "text/x-python",
   "name": "python",
   "nbconvert_exporter": "python",
   "pygments_lexer": "ipython3",
   "version": "3.8.3"
  },
  "orig_nbformat": 4,
  "vscode": {
   "interpreter": {
    "hash": "aee8b7b246df8f9039afb4144a1f6fd8d2ca17a180786b69acc140d282b71a49"
   }
  }
 },
 "nbformat": 4,
 "nbformat_minor": 2
}
