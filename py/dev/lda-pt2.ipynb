{
 "cells": [
  {
   "cell_type": "code",
   "execution_count": 1,
   "metadata": {},
   "outputs": [],
   "source": [
    "# load data\n",
    "\n",
    "import pandas as pd\n",
    "\n",
    "posts = pd.read_csv('../dat/all_comments.csv')"
   ]
  },
  {
   "cell_type": "code",
   "execution_count": 2,
   "metadata": {},
   "outputs": [
    {
     "data": {
      "text/plain": [
       "Index(['Unnamed: 0', 'body', 'author', 'score', 'created_utc', 'id', 'post'], dtype='object')"
      ]
     },
     "execution_count": 2,
     "metadata": {},
     "output_type": "execute_result"
    }
   ],
   "source": [
    "posts.columns\n"
   ]
  },
  {
   "cell_type": "code",
   "execution_count": 3,
   "metadata": {},
   "outputs": [],
   "source": [
    "# clean\n",
    "# remove extra cols\n",
    "\n",
    "posts = posts.drop(columns=['Unnamed: 0', 'author', 'score', 'created_utc', \n",
    "'id', 'post'])\n"
   ]
  },
  {
   "cell_type": "code",
   "execution_count": 4,
   "metadata": {},
   "outputs": [
    {
     "data": {
      "text/plain": [
       "0    i already smoke weed and do psychedelics but i...\n",
       "1    i already tried everything (i was not an addic...\n",
       "2    after the most recent episode i don’t even wan...\n",
       "3    in recovery 🤗 sometimes this show makes me mis...\n",
       "4    i‘m already a sad person i don‘t need drugs to...\n",
       "Name: post_clean, dtype: object"
      ]
     },
     "execution_count": 4,
     "metadata": {},
     "output_type": "execute_result"
    }
   ],
   "source": [
    "# remove punct/lower case\n",
    "\n",
    "import re\n",
    "posts['post_clean'] = posts['body'].map(lambda x: re.sub('[,\\.!?]', '', x))\n",
    "posts['post_clean'] = posts['post_clean'].map(lambda x: x.lower())\n",
    "posts['post_clean'].head()"
   ]
  },
  {
   "cell_type": "code",
   "execution_count": 5,
   "metadata": {},
   "outputs": [
    {
     "name": "stdout",
     "output_type": "stream",
     "text": [
      "['already', 'smoke', 'weed', 'and', 'do', 'psychedelics', 'but', 'never', 'ever', 'fuck', 'with', 'opiates']\n"
     ]
    }
   ],
   "source": [
    "# tokenize and clean more\n",
    "import gensim\n",
    "from gensim.utils import simple_preprocess\n",
    "\n",
    "def sent_to_words(sentences):\n",
    "    for sentence in sentences:\n",
    "        yield(gensim.utils.simple_preprocess(str(sentence), deacc=True))\n",
    "\n",
    "data = posts.post_clean.values.tolist()\n",
    "data_words = list(sent_to_words(data))\n",
    "\n",
    "print(data_words[:1][0])"
   ]
  },
  {
   "cell_type": "code",
   "execution_count": 6,
   "metadata": {},
   "outputs": [],
   "source": [
    "# phrase modeling w/bigram and trigrams\n",
    "from torch import threshold\n",
    "\n",
    "bigram = gensim.models.Phrases(data_words, min_count = 5, threshold=100)\n",
    "trigram = gensim.models.Phrases(bigram[data_words], threshold = 100)"
   ]
  },
  {
   "cell_type": "code",
   "execution_count": 7,
   "metadata": {},
   "outputs": [],
   "source": [
    "# make models\n",
    "# Faster way to get a sentence clubbed as a trigram/bigram\n",
    "bigram_mod = gensim.models.phrases.Phraser(bigram)\n",
    "trigram_mod = gensim.models.phrases.Phraser(trigram)"
   ]
  },
  {
   "cell_type": "code",
   "execution_count": 8,
   "metadata": {},
   "outputs": [],
   "source": [
    "# remove stopwords, bigrams and lemma\n",
    "import nltk\n",
    "from nltk.corpus import stopwords\n",
    "\n",
    "stop_words = stopwords.words('english')"
   ]
  },
  {
   "cell_type": "code",
   "execution_count": 9,
   "metadata": {},
   "outputs": [],
   "source": [
    "def remove_stopwords(text):\n",
    "    return [[word for word in simple_preprocess(str(doc)) if word not in stop_words]\n",
    "    for doc in text]\n",
    "\n",
    "def make_bigrams(text):\n",
    "    return [bigram_mod[doc] for doc in text]\n",
    "\n",
    "def make_trigrams(text):\n",
    "    return [trigram_mod[doc] for doc in text]\n",
    "\n",
    "def lemmatization(text, allowed_postags=['NOUN', 'ADJ', 'VERB', 'ADV']):\n",
    "    \"\"\"https://spacy.io/api/annotation\"\"\"\n",
    "    texts_out = []\n",
    "    for sent in text:\n",
    "        doc = nlp(\" \".join(sent)) \n",
    "        texts_out.append([token.lemma_ for token in doc if token.pos_ in allowed_postags])\n",
    "    return texts_out"
   ]
  },
  {
   "cell_type": "code",
   "execution_count": 10,
   "metadata": {},
   "outputs": [
    {
     "data": {
      "text/plain": [
       "<spacy.lang.en.English at 0x7fd24a7e76a0>"
      ]
     },
     "execution_count": 10,
     "metadata": {},
     "output_type": "execute_result"
    }
   ],
   "source": [
    "import spacy\n",
    "# pip install https://github.com/explosion/spacy-models/releases/download/en_core_web_sm-3.0.0/en_core_web_sm-3.0.0.tar.gz\n",
    "spacy.load('en_core_web_sm')"
   ]
  },
  {
   "cell_type": "code",
   "execution_count": 11,
   "metadata": {},
   "outputs": [
    {
     "name": "stdout",
     "output_type": "stream",
     "text": [
      "['already', 'smoke_weed', 'psychedelic', 'never', 'ever', 'fuck', 'opiate']\n"
     ]
    }
   ],
   "source": [
    "\n",
    "# remove stopwords\n",
    "data_words_nostop = remove_stopwords(data_words)\n",
    "\n",
    "# bigrams\n",
    "data_words_bigrams = make_bigrams(data_words_nostop)\n",
    "\n",
    "# trigrams\n",
    "# data_words_trigrams = make_trigrams(data_words_nostop)\n",
    "\n",
    "# initialize spacy 'en' model\n",
    "nlp = spacy.load('en_core_web_sm', disable=['parser', 'ner'])\n",
    "\n",
    "# lemmatize but only keep noun, adj, vb, adv\n",
    "data_lemmatized = lemmatization(data_words_bigrams,\n",
    "                                allowed_postags=['NOUN', 'ADJ', 'VERB', 'ADV'])\n",
    "\n",
    "print(data_lemmatized[:1][0])"
   ]
  },
  {
   "cell_type": "code",
   "execution_count": 12,
   "metadata": {},
   "outputs": [
    {
     "name": "stdout",
     "output_type": "stream",
     "text": [
      "[(0, 1), (1, 1), (2, 1), (3, 1), (4, 1), (5, 1), (6, 1)]\n"
     ]
    }
   ],
   "source": [
    "# transform, corpus and dictionary\n",
    "import gensim.corpora as corpora\n",
    "\n",
    "# dictionary\n",
    "id2word = corpora.Dictionary(data_lemmatized)\n",
    "\n",
    "# corpus\n",
    "texts = data_lemmatized\n",
    "\n",
    "# tdf\n",
    "corpus = [id2word.doc2bow(text) for text in texts]\n",
    "\n",
    "print(corpus[:1][0])"
   ]
  },
  {
   "cell_type": "code",
   "execution_count": 13,
   "metadata": {},
   "outputs": [],
   "source": [
    "# base model\n",
    "lda_model = gensim.models.LdaMulticore(corpus=corpus,\n",
    "                                       id2word=id2word,\n",
    "                                       num_topics=4, \n",
    "                                       random_state=2022,\n",
    "                                       chunksize=100,\n",
    "                                       passes=100,\n",
    "                                       per_word_topics=True)\n"
   ]
  },
  {
   "cell_type": "code",
   "execution_count": 14,
   "metadata": {},
   "outputs": [
    {
     "name": "stdout",
     "output_type": "stream",
     "text": [
      "[(0,\n",
      "  '0.030*\"drug\" + 0.016*\"make\" + 0.014*\"get\" + 0.013*\"show\" + 0.012*\"try\" + '\n",
      "  '0.012*\"use\" + 0.011*\"never\" + 0.011*\"know\" + 0.010*\"want\" + 0.010*\"rue\"'),\n",
      " (1,\n",
      "  '0.012*\"make\" + 0.010*\"rue\" + 0.009*\"dopamine\" + 0.008*\"laurie\" + '\n",
      "  '0.008*\"see\" + 0.008*\"addict\" + 0.007*\"get\" + 0.007*\"want\" + 0.007*\"look\" + '\n",
      "  '0.007*\"really\"'),\n",
      " (2,\n",
      "  '0.020*\"withdrawal\" + 0.016*\"go\" + 0.013*\"get\" + 0.013*\"see\" + 0.012*\"feel\" '\n",
      "  '+ 0.010*\"addict\" + 0.009*\"opiate\" + 0.009*\"trigger\" + 0.009*\"yawn\" + '\n",
      "  '0.008*\"people\"'),\n",
      " (3,\n",
      "  '0.015*\"get\" + 0.012*\"withdrawal\" + 0.011*\"thing\" + 0.009*\"time\" + '\n",
      "  '0.009*\"bad\" + 0.009*\"much\" + 0.008*\"really\" + 0.008*\"feel\" + 0.008*\"way\" + '\n",
      "  '0.007*\"think\"')]\n"
     ]
    }
   ],
   "source": [
    "from pprint import pprint\n",
    "\n",
    "pprint(lda_model.print_topics())\n",
    "doc_lda = lda_model[corpus]"
   ]
  },
  {
   "cell_type": "code",
   "execution_count": 15,
   "metadata": {},
   "outputs": [
    {
     "name": "stdout",
     "output_type": "stream",
     "text": [
      "coherence score:  -2.466541133647462\n"
     ]
    }
   ],
   "source": [
    "# model perplexity and coherence\n",
    "from gensim.models import CoherenceModel\n",
    "\n",
    "coherence_model_lda = CoherenceModel(model=lda_model, texts=data_lemmatized,\n",
    "                               dictionary=id2word, coherence='u_mass')\n",
    "\n",
    "coherence_lda = coherence_model_lda.get_coherence()\n",
    "print('coherence score: ', coherence_lda)\n"
   ]
  },
  {
   "cell_type": "code",
   "execution_count": null,
   "metadata": {},
   "outputs": [],
   "source": [
    "# calculating coreherence with c_v took WAY too long"
   ]
  },
  {
   "cell_type": "code",
   "execution_count": 16,
   "metadata": {},
   "outputs": [],
   "source": [
    "# sensitivity tests\n",
    "\n",
    "# supporting function\n",
    "def compute_coherence_values(corpus, dictionary, k, a, b):\n",
    "    \n",
    "    lda_model = gensim.models.LdaMulticore(corpus=corpus,\n",
    "                                           id2word=dictionary,\n",
    "                                           num_topics=k, \n",
    "                                           random_state=100,\n",
    "                                           chunksize=100,\n",
    "                                           passes=10,\n",
    "                                           alpha=a,\n",
    "                                           eta=b)\n",
    "    \n",
    "    coherence_model_lda = CoherenceModel(model=lda_model, texts=data_lemmatized, dictionary=id2word, coherence='u_mass')\n",
    "    \n",
    "    return coherence_model_lda.get_coherence()"
   ]
  },
  {
   "cell_type": "code",
   "execution_count": 17,
   "metadata": {},
   "outputs": [
    {
     "name": "stderr",
     "output_type": "stream",
     "text": [
      " 89%|████████▉ | 480/540 [1:43:39<12:57, 12.96s/it]\n"
     ]
    }
   ],
   "source": [
    "# iterate above function over range of topics\n",
    "\n",
    "import numpy as np\n",
    "import tqdm\n",
    "\n",
    "grid = {}\n",
    "grid['validation_set'] = {}\n",
    "\n",
    "# topic rnge\n",
    "min_topics = 2\n",
    "max_topics= 10\n",
    "step_size = 1\n",
    "topics_range = range(min_topics, max_topics, step_size)\n",
    "\n",
    "# alpha\n",
    "alpha = list(np.arange(0.01, 1, 0.3))\n",
    "alpha.append('symmetric')\n",
    "alpha.append('asymmetric')\n",
    "\n",
    "# beta\n",
    "beta = list(np.arange(0.01, 1, 0.3))\n",
    "beta.append('symmetric')\n",
    "\n",
    "# validation set\n",
    "num_docs = len(corpus)\n",
    "corpus_sets = [gensim.utils.ClippedCorpus(corpus, int(num_docs*.75)), corpus]\n",
    "\n",
    "corpus_title = ['75% Corpus', '100% Corpus']\n",
    "\n",
    "model_results = {'Validation_Set': [],\n",
    "                 'Topics': [],\n",
    "                 'Alpha': [],\n",
    "                 'Beta': [],\n",
    "                 'Coherence': []\n",
    "                }\n",
    "\n",
    "# Can take a long time to run\n",
    "if 1 == 1:\n",
    "    pbar = tqdm.tqdm(total=540)\n",
    "    \n",
    "    # iterate through validation corpuses\n",
    "    for i in range(len(corpus_sets)):\n",
    "        # iterate through number of topics\n",
    "        for k in topics_range:\n",
    "            # iterate through alpha values\n",
    "            for a in alpha:\n",
    "                # iterare through beta values\n",
    "                for b in beta:\n",
    "                    # get the coherence score for the given parameters\n",
    "                    cv = compute_coherence_values(corpus=corpus_sets[i], dictionary=id2word, \n",
    "                                                  k=k, a=a, b=b)\n",
    "                    # Save the model results\n",
    "                    model_results['Validation_Set'].append(corpus_title[i])\n",
    "                    model_results['Topics'].append(k)\n",
    "                    model_results['Alpha'].append(a)\n",
    "                    model_results['Beta'].append(b)\n",
    "                    model_results['Coherence'].append(cv)\n",
    "                    \n",
    "                    pbar.update(1)\n",
    "    pd.DataFrame(model_results).to_csv('lda_tuning_results.csv', index=False)\n",
    "    pbar.close()"
   ]
  }
 ],
 "metadata": {
  "kernelspec": {
   "display_name": "Python 3.8.3 64-bit",
   "language": "python",
   "name": "python3"
  },
  "language_info": {
   "codemirror_mode": {
    "name": "ipython",
    "version": 3
   },
   "file_extension": ".py",
   "mimetype": "text/x-python",
   "name": "python",
   "nbconvert_exporter": "python",
   "pygments_lexer": "ipython3",
   "version": "3.8.3"
  },
  "orig_nbformat": 4,
  "vscode": {
   "interpreter": {
    "hash": "aee8b7b246df8f9039afb4144a1f6fd8d2ca17a180786b69acc140d282b71a49"
   }
  }
 },
 "nbformat": 4,
 "nbformat_minor": 2
}
